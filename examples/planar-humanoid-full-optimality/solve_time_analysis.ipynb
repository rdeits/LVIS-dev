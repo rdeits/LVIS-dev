{
 "cells": [
  {
   "cell_type": "code",
   "execution_count": 1,
   "metadata": {},
   "outputs": [],
   "source": [
    "using Revise"
   ]
  },
  {
   "cell_type": "code",
   "execution_count": 2,
   "metadata": {},
   "outputs": [
    {
     "data": {
      "text/html": [
       "    <script class='js-collapse-script'>\n",
       "        var curMatch =\n",
       "            window.location.href\n",
       "            .match(/(.*?)\\/notebooks\\/.*\\.ipynb/);\n",
       "\n",
       "        curMatch = curMatch ||\n",
       "            window.location.href\n",
       "            .match(/(.*?)\\/apps\\/.*\\.ipynb/);\n",
       "\n",
       "        if ( curMatch ) {\n",
       "            $('head').append('<base href=\"' + curMatch[1] + '/\">');\n",
       "        }\n",
       "    </script>\n"
      ],
      "text/plain": [
       "HTML{String}(\"    <script class='js-collapse-script'>\\n        var curMatch =\\n            window.location.href\\n            .match(/(.*?)\\\\/notebooks\\\\/.*\\\\.ipynb/);\\n\\n        curMatch = curMatch ||\\n            window.location.href\\n            .match(/(.*?)\\\\/apps\\\\/.*\\\\.ipynb/);\\n\\n        if ( curMatch ) {\\n            \\$('head').append('<base href=\\\"' + curMatch[1] + '/\\\">');\\n        }\\n    </script>\\n\")"
      ]
     },
     "metadata": {},
     "output_type": "display_data"
    },
    {
     "data": {
      "text/html": [
       "<script class='js-collapse-script' src='/assetserver/9db0e137604e898c25f194d972715156bd46cb81-assets/webio/dist/bundle.js'></script>"
      ],
      "text/plain": [
       "HTML{String}(\"<script class='js-collapse-script' src='/assetserver/9db0e137604e898c25f194d972715156bd46cb81-assets/webio/dist/bundle.js'></script>\")"
      ]
     },
     "metadata": {},
     "output_type": "display_data"
    },
    {
     "data": {
      "text/html": [
       "<script class='js-collapse-script' src='/assetserver/9db0e137604e898c25f194d972715156bd46cb81-assets/providers/ijulia_setup.js'></script>"
      ],
      "text/plain": [
       "HTML{String}(\"<script class='js-collapse-script' src='/assetserver/9db0e137604e898c25f194d972715156bd46cb81-assets/providers/ijulia_setup.js'></script>\")"
      ]
     },
     "metadata": {},
     "output_type": "display_data"
    },
    {
     "data": {
      "text/html": [
       "  <script class='js-collapse-script'>\n",
       "    $('.js-collapse-script').parent('.output_subarea').css('padding', '0');\n",
       "  </script>\n"
      ],
      "text/plain": [
       "HTML{String}(\"  <script class='js-collapse-script'>\\n    \\$('.js-collapse-script').parent('.output_subarea').css('padding', '0');\\n  </script>\\n\")"
      ]
     },
     "metadata": {},
     "output_type": "display_data"
    },
    {
     "name": "stderr",
     "output_type": "stream",
     "text": [
      "\u001b[1m\u001b[36mINFO: \u001b[39m\u001b[22m\u001b[36mLoading HttpServer methods...\n",
      "\u001b[39m"
     ]
    }
   ],
   "source": [
    "using MeshCatMechanisms\n",
    "using MeshCat\n",
    "using RigidBodyDynamics\n",
    "using Flux\n",
    "using ProgressMeter\n",
    "using MLDataPattern\n",
    "using JLD2\n",
    "using Plots; gr()\n",
    "using LCPSim\n",
    "using LearningMPC\n",
    "using LearningMPC.Models\n",
    "using Gurobi"
   ]
  },
  {
   "cell_type": "code",
   "execution_count": 28,
   "metadata": {},
   "outputs": [
    {
     "data": {
      "text/plain": [
       "54-element Array{Float64,1}:\n",
       "    7.17\n",
       "    9.58\n",
       "   20.97\n",
       "    8.49\n",
       "   12.33\n",
       "   20.46\n",
       "  380.88\n",
       "    6.98\n",
       "    4.86\n",
       "    5.89\n",
       "    4.53\n",
       "  253.73\n",
       "  290.52\n",
       "    ⋮   \n",
       "    0.24\n",
       " 4393.41\n",
       "  603.01\n",
       "  618.42\n",
       "  916.04\n",
       "  977.2 \n",
       "  310.99\n",
       "  866.3 \n",
       "    8.84\n",
       " 1520.29\n",
       "  858.05\n",
       " 2849.27"
      ]
     },
     "execution_count": 28,
     "metadata": {},
     "output_type": "execute_result"
    }
   ],
   "source": [
    "solvetimes = [\n",
    "    7.17,\n",
    "    9.58,\n",
    "    20.97,\n",
    "    8.49,\n",
    "    12.33,\n",
    "    20.46,\n",
    "    380.88,\n",
    "    6.98,\n",
    "    4.86,\n",
    "    5.89,\n",
    "    4.53,\n",
    "    253.73,\n",
    "    290.52,\n",
    "    19.32,\n",
    "    73.05,\n",
    "    2491.72,\n",
    "    579.22,\n",
    "    1450.68,\n",
    "    229.16,\n",
    "    302.78,\n",
    "    382.43,\n",
    "    511.47,\n",
    "    214.11,\n",
    "    386.92,\n",
    "    231.94,\n",
    "    11.86,\n",
    "    9.83,\n",
    "    4.05,\n",
    "    5367.36,\n",
    "    1607.84,\n",
    "    382.96,\n",
    "    154.26,\n",
    "    357.64,\n",
    "    704.71,\n",
    "    346.77,\n",
    "    493.32,\n",
    "    742.35,\n",
    "    481.08,\n",
    "    315.46,\n",
    "    2242.64,\n",
    "    324.73,\n",
    "    465.41,\n",
    "    0.24,\n",
    "    4393.41,\n",
    "    603.01,\n",
    "    618.42,\n",
    "    916.04,\n",
    "    977.20,\n",
    "    310.99,\n",
    "    866.30,\n",
    "    8.84,\n",
    "    1520.29,\n",
    "    858.05,\n",
    "    2849.27,\n",
    "]"
   ]
  },
  {
   "cell_type": "code",
   "execution_count": 29,
   "metadata": {},
   "outputs": [],
   "source": [
    "# One additional solve required 27,775 seconds and still did not converge,\n",
    "# only reaching 1.29% of optimality. "
   ]
  },
  {
   "cell_type": "code",
   "execution_count": 30,
   "metadata": {},
   "outputs": [
    {
     "data": {
      "text/plain": [
       "55-element Array{Float64,1}:\n",
       "     7.17\n",
       "     9.58\n",
       "    20.97\n",
       "     8.49\n",
       "    12.33\n",
       "    20.46\n",
       "   380.88\n",
       "     6.98\n",
       "     4.86\n",
       "     5.89\n",
       "     4.53\n",
       "   253.73\n",
       "   290.52\n",
       "     ⋮   \n",
       "  4393.41\n",
       "   603.01\n",
       "   618.42\n",
       "   916.04\n",
       "   977.2 \n",
       "   310.99\n",
       "   866.3 \n",
       "     8.84\n",
       "  1520.29\n",
       "   858.05\n",
       "  2849.27\n",
       " 27775.0 "
      ]
     },
     "execution_count": 30,
     "metadata": {},
     "output_type": "execute_result"
    }
   ],
   "source": [
    "times = vcat(solvetimes, 27775)"
   ]
  },
  {
   "cell_type": "code",
   "execution_count": 37,
   "metadata": {},
   "outputs": [
    {
     "data": {
      "text/plain": [
       "7.715277777777778"
      ]
     },
     "execution_count": 37,
     "metadata": {},
     "output_type": "execute_result"
    }
   ],
   "source": [
    "27775 / 60 / 60"
   ]
  },
  {
   "cell_type": "code",
   "execution_count": 34,
   "metadata": {},
   "outputs": [
    {
     "data": {
      "text/plain": [
       "0.24"
      ]
     },
     "execution_count": 34,
     "metadata": {},
     "output_type": "execute_result"
    }
   ],
   "source": [
    "minimum(times)"
   ]
  },
  {
   "cell_type": "code",
   "execution_count": 39,
   "metadata": {},
   "outputs": [
    {
     "data": {
      "text/plain": [
       "54"
      ]
     },
     "execution_count": 39,
     "metadata": {},
     "output_type": "execute_result"
    }
   ],
   "source": [
    "length(solvetimes)"
   ]
  },
  {
   "cell_type": "code",
   "execution_count": 35,
   "metadata": {},
   "outputs": [
    {
     "data": {
      "text/plain": [
       "5367.36"
      ]
     },
     "execution_count": 35,
     "metadata": {},
     "output_type": "execute_result"
    }
   ],
   "source": [
    "maximum(solvetimes)"
   ]
  },
  {
   "cell_type": "code",
   "execution_count": 36,
   "metadata": {},
   "outputs": [
    {
     "data": {
      "text/plain": [
       "663.5837037037037"
      ]
     },
     "execution_count": 36,
     "metadata": {},
     "output_type": "execute_result"
    }
   ],
   "source": [
    "mean(solvetimes)"
   ]
  },
  {
   "cell_type": "code",
   "execution_count": 38,
   "metadata": {},
   "outputs": [
    {
     "data": {
      "text/plain": [
       "1156.5185454545453"
      ]
     },
     "execution_count": 38,
     "metadata": {},
     "output_type": "execute_result"
    }
   ],
   "source": [
    "mean(times)"
   ]
  },
  {
   "cell_type": "code",
   "execution_count": 32,
   "metadata": {},
   "outputs": [
    {
     "data": {
      "text/plain": [
       "8.64664041861059e-6"
      ]
     },
     "execution_count": 32,
     "metadata": {},
     "output_type": "execute_result"
    }
   ],
   "source": [
    "0.01 / mean(times)"
   ]
  },
  {
   "cell_type": "code",
   "execution_count": 33,
   "metadata": {},
   "outputs": [
    {
     "name": "stdout",
     "output_type": "stream",
     "text": [
      "0.000008"
     ]
    }
   ],
   "source": [
    "@printf \"%0.f\" 8e-6"
   ]
  },
  {
   "cell_type": "code",
   "execution_count": 24,
   "metadata": {},
   "outputs": [
    {
     "data": {
      "text/plain": [
       "11.059728395061729"
      ]
     },
     "execution_count": 24,
     "metadata": {},
     "output_type": "execute_result"
    }
   ],
   "source": [
    "mean(solvetimes) / 60"
   ]
  },
  {
   "cell_type": "code",
   "execution_count": 23,
   "metadata": {},
   "outputs": [
    {
     "data": {
      "text/plain": [
       "17.669033333333335"
      ]
     },
     "execution_count": 23,
     "metadata": {},
     "output_type": "execute_result"
    }
   ],
   "source": [
    "(sum(solvetimes) + 27775) / 60 / 60"
   ]
  },
  {
   "cell_type": "code",
   "execution_count": 25,
   "metadata": {},
   "outputs": [
    {
     "data": {
      "image/svg+xml": [
       "<?xml version=\"1.0\" encoding=\"utf-8\"?>\n",
       "<svg xmlns=\"http://www.w3.org/2000/svg\" xmlns:xlink=\"http://www.w3.org/1999/xlink\" width=\"500\" height=\"250\" viewBox=\"0 0 500 250\">\n",
       "<defs>\n",
       "  <clipPath id=\"clip8600\">\n",
       "    <rect x=\"0\" y=\"0\" width=\"500\" height=\"250\"/>\n",
       "  </clipPath>\n",
       "</defs>\n",
       "<polygon clip-path=\"url(#clip8600)\" points=\"\n",
       "0,250 500,250 500,0 0,0 \n",
       "  \" fill=\"#ffffff\" fill-opacity=\"1\"/>\n",
       "<defs>\n",
       "  <clipPath id=\"clip8601\">\n",
       "    <rect x=\"100\" y=\"0\" width=\"351\" height=\"250\"/>\n",
       "  </clipPath>\n",
       "</defs>\n",
       "<polygon clip-path=\"url(#clip8600)\" points=\"\n",
       "52.7512,212.216 480.315,212.216 480.315,11.811 52.7512,11.811 \n",
       "  \" fill=\"#ffffff\" fill-opacity=\"1\"/>\n",
       "<defs>\n",
       "  <clipPath id=\"clip8602\">\n",
       "    <rect x=\"52\" y=\"11\" width=\"429\" height=\"201\"/>\n",
       "  </clipPath>\n",
       "</defs>\n",
       "<polyline clip-path=\"url(#clip8602)\" style=\"stroke:#000000; stroke-width:0.5; stroke-opacity:0.1; fill:none\" points=\"\n",
       "  76.268,212.216 76.268,11.811 \n",
       "  \"/>\n",
       "<polyline clip-path=\"url(#clip8602)\" style=\"stroke:#000000; stroke-width:0.5; stroke-opacity:0.1; fill:none\" points=\"\n",
       "  146.737,212.216 146.737,11.811 \n",
       "  \"/>\n",
       "<polyline clip-path=\"url(#clip8602)\" style=\"stroke:#000000; stroke-width:0.5; stroke-opacity:0.1; fill:none\" points=\"\n",
       "  217.205,212.216 217.205,11.811 \n",
       "  \"/>\n",
       "<polyline clip-path=\"url(#clip8602)\" style=\"stroke:#000000; stroke-width:0.5; stroke-opacity:0.1; fill:none\" points=\"\n",
       "  287.674,212.216 287.674,11.811 \n",
       "  \"/>\n",
       "<polyline clip-path=\"url(#clip8602)\" style=\"stroke:#000000; stroke-width:0.5; stroke-opacity:0.1; fill:none\" points=\"\n",
       "  358.142,212.216 358.142,11.811 \n",
       "  \"/>\n",
       "<polyline clip-path=\"url(#clip8602)\" style=\"stroke:#000000; stroke-width:0.5; stroke-opacity:0.1; fill:none\" points=\"\n",
       "  428.611,212.216 428.611,11.811 \n",
       "  \"/>\n",
       "<polyline clip-path=\"url(#clip8602)\" style=\"stroke:#000000; stroke-width:0.5; stroke-opacity:0.1; fill:none\" points=\"\n",
       "  52.7512,206.545 480.315,206.545 \n",
       "  \"/>\n",
       "<polyline clip-path=\"url(#clip8602)\" style=\"stroke:#000000; stroke-width:0.5; stroke-opacity:0.1; fill:none\" points=\"\n",
       "  52.7512,154.027 480.315,154.027 \n",
       "  \"/>\n",
       "<polyline clip-path=\"url(#clip8602)\" style=\"stroke:#000000; stroke-width:0.5; stroke-opacity:0.1; fill:none\" points=\"\n",
       "  52.7512,101.51 480.315,101.51 \n",
       "  \"/>\n",
       "<polyline clip-path=\"url(#clip8602)\" style=\"stroke:#000000; stroke-width:0.5; stroke-opacity:0.1; fill:none\" points=\"\n",
       "  52.7512,48.9932 480.315,48.9932 \n",
       "  \"/>\n",
       "<polyline clip-path=\"url(#clip8600)\" style=\"stroke:#000000; stroke-width:1; stroke-opacity:1; fill:none\" points=\"\n",
       "  52.7512,212.216 480.315,212.216 \n",
       "  \"/>\n",
       "<polyline clip-path=\"url(#clip8600)\" style=\"stroke:#000000; stroke-width:1; stroke-opacity:1; fill:none\" points=\"\n",
       "  52.7512,212.216 52.7512,11.811 \n",
       "  \"/>\n",
       "<polyline clip-path=\"url(#clip8600)\" style=\"stroke:#000000; stroke-width:1; stroke-opacity:1; fill:none\" points=\"\n",
       "  76.268,212.216 76.268,209.21 \n",
       "  \"/>\n",
       "<polyline clip-path=\"url(#clip8600)\" style=\"stroke:#000000; stroke-width:1; stroke-opacity:1; fill:none\" points=\"\n",
       "  146.737,212.216 146.737,209.21 \n",
       "  \"/>\n",
       "<polyline clip-path=\"url(#clip8600)\" style=\"stroke:#000000; stroke-width:1; stroke-opacity:1; fill:none\" points=\"\n",
       "  217.205,212.216 217.205,209.21 \n",
       "  \"/>\n",
       "<polyline clip-path=\"url(#clip8600)\" style=\"stroke:#000000; stroke-width:1; stroke-opacity:1; fill:none\" points=\"\n",
       "  287.674,212.216 287.674,209.21 \n",
       "  \"/>\n",
       "<polyline clip-path=\"url(#clip8600)\" style=\"stroke:#000000; stroke-width:1; stroke-opacity:1; fill:none\" points=\"\n",
       "  358.142,212.216 358.142,209.21 \n",
       "  \"/>\n",
       "<polyline clip-path=\"url(#clip8600)\" style=\"stroke:#000000; stroke-width:1; stroke-opacity:1; fill:none\" points=\"\n",
       "  428.611,212.216 428.611,209.21 \n",
       "  \"/>\n",
       "<polyline clip-path=\"url(#clip8600)\" style=\"stroke:#000000; stroke-width:1; stroke-opacity:1; fill:none\" points=\"\n",
       "  52.7512,206.545 59.1647,206.545 \n",
       "  \"/>\n",
       "<polyline clip-path=\"url(#clip8600)\" style=\"stroke:#000000; stroke-width:1; stroke-opacity:1; fill:none\" points=\"\n",
       "  52.7512,154.027 59.1647,154.027 \n",
       "  \"/>\n",
       "<polyline clip-path=\"url(#clip8600)\" style=\"stroke:#000000; stroke-width:1; stroke-opacity:1; fill:none\" points=\"\n",
       "  52.7512,101.51 59.1647,101.51 \n",
       "  \"/>\n",
       "<polyline clip-path=\"url(#clip8600)\" style=\"stroke:#000000; stroke-width:1; stroke-opacity:1; fill:none\" points=\"\n",
       "  52.7512,48.9932 59.1647,48.9932 \n",
       "  \"/>\n",
       "<g clip-path=\"url(#clip8600)\">\n",
       "<text style=\"fill:#000000; fill-opacity:1; font-family:Arial,Helvetica Neue,Helvetica,sans-serif; font-size:12; text-anchor:middle;\" transform=\"rotate(0, 76.268, 225.516)\" x=\"76.268\" y=\"225.516\">0</text>\n",
       "</g>\n",
       "<g clip-path=\"url(#clip8600)\">\n",
       "<text style=\"fill:#000000; fill-opacity:1; font-family:Arial,Helvetica Neue,Helvetica,sans-serif; font-size:12; text-anchor:middle;\" transform=\"rotate(0, 146.737, 225.516)\" x=\"146.737\" y=\"225.516\">1000</text>\n",
       "</g>\n",
       "<g clip-path=\"url(#clip8600)\">\n",
       "<text style=\"fill:#000000; fill-opacity:1; font-family:Arial,Helvetica Neue,Helvetica,sans-serif; font-size:12; text-anchor:middle;\" transform=\"rotate(0, 217.205, 225.516)\" x=\"217.205\" y=\"225.516\">2000</text>\n",
       "</g>\n",
       "<g clip-path=\"url(#clip8600)\">\n",
       "<text style=\"fill:#000000; fill-opacity:1; font-family:Arial,Helvetica Neue,Helvetica,sans-serif; font-size:12; text-anchor:middle;\" transform=\"rotate(0, 287.674, 225.516)\" x=\"287.674\" y=\"225.516\">3000</text>\n",
       "</g>\n",
       "<g clip-path=\"url(#clip8600)\">\n",
       "<text style=\"fill:#000000; fill-opacity:1; font-family:Arial,Helvetica Neue,Helvetica,sans-serif; font-size:12; text-anchor:middle;\" transform=\"rotate(0, 358.142, 225.516)\" x=\"358.142\" y=\"225.516\">4000</text>\n",
       "</g>\n",
       "<g clip-path=\"url(#clip8600)\">\n",
       "<text style=\"fill:#000000; fill-opacity:1; font-family:Arial,Helvetica Neue,Helvetica,sans-serif; font-size:12; text-anchor:middle;\" transform=\"rotate(0, 428.611, 225.516)\" x=\"428.611\" y=\"225.516\">5000</text>\n",
       "</g>\n",
       "<g clip-path=\"url(#clip8600)\">\n",
       "<text style=\"fill:#000000; fill-opacity:1; font-family:Arial,Helvetica Neue,Helvetica,sans-serif; font-size:12; text-anchor:end;\" transform=\"rotate(0, 47.7512, 211.045)\" x=\"47.7512\" y=\"211.045\">0</text>\n",
       "</g>\n",
       "<g clip-path=\"url(#clip8600)\">\n",
       "<text style=\"fill:#000000; fill-opacity:1; font-family:Arial,Helvetica Neue,Helvetica,sans-serif; font-size:12; text-anchor:end;\" transform=\"rotate(0, 47.7512, 158.527)\" x=\"47.7512\" y=\"158.527\">5</text>\n",
       "</g>\n",
       "<g clip-path=\"url(#clip8600)\">\n",
       "<text style=\"fill:#000000; fill-opacity:1; font-family:Arial,Helvetica Neue,Helvetica,sans-serif; font-size:12; text-anchor:end;\" transform=\"rotate(0, 47.7512, 106.01)\" x=\"47.7512\" y=\"106.01\">10</text>\n",
       "</g>\n",
       "<g clip-path=\"url(#clip8600)\">\n",
       "<text style=\"fill:#000000; fill-opacity:1; font-family:Arial,Helvetica Neue,Helvetica,sans-serif; font-size:12; text-anchor:end;\" transform=\"rotate(0, 47.7512, 53.4932)\" x=\"47.7512\" y=\"53.4932\">15</text>\n",
       "</g>\n",
       "<g clip-path=\"url(#clip8600)\">\n",
       "<text style=\"fill:#000000; fill-opacity:1; font-family:Arial,Helvetica Neue,Helvetica,sans-serif; font-size:16; text-anchor:middle;\" transform=\"rotate(0, 266.533, 247.6)\" x=\"266.533\" y=\"247.6\">Time to solve to within 1% of optimality (s)</text>\n",
       "</g>\n",
       "<g clip-path=\"url(#clip8600)\">\n",
       "<text style=\"fill:#000000; fill-opacity:1; font-family:Arial,Helvetica Neue,Helvetica,sans-serif; font-size:16; text-anchor:middle;\" transform=\"rotate(-90, 14.4, 112.014)\" x=\"14.4\" y=\"112.014\">Number of Optimizations</text>\n",
       "</g>\n",
       "<polygon clip-path=\"url(#clip8602)\" points=\"\n",
       "76.268,17.4829 76.268,206.545 90.3617,206.545 90.3617,17.4829 76.268,17.4829 76.268,17.4829 \n",
       "  \" fill=\"#009af9\" fill-opacity=\"1\"/>\n",
       "<polyline clip-path=\"url(#clip8602)\" style=\"stroke:#000000; stroke-width:1; stroke-opacity:1; fill:none\" points=\"\n",
       "  76.268,17.4829 76.268,206.545 90.3617,206.545 90.3617,17.4829 76.268,17.4829 \n",
       "  \"/>\n",
       "<polygon clip-path=\"url(#clip8602)\" points=\"\n",
       "90.3617,48.9932 90.3617,206.545 104.455,206.545 104.455,48.9932 90.3617,48.9932 90.3617,48.9932 \n",
       "  \" fill=\"#009af9\" fill-opacity=\"1\"/>\n",
       "<polyline clip-path=\"url(#clip8602)\" style=\"stroke:#000000; stroke-width:1; stroke-opacity:1; fill:none\" points=\"\n",
       "  90.3617,48.9932 90.3617,206.545 104.455,206.545 104.455,48.9932 90.3617,48.9932 \n",
       "  \"/>\n",
       "<polygon clip-path=\"url(#clip8602)\" points=\"\n",
       "104.455,154.027 104.455,206.545 118.549,206.545 118.549,154.027 104.455,154.027 104.455,154.027 \n",
       "  \" fill=\"#009af9\" fill-opacity=\"1\"/>\n",
       "<polyline clip-path=\"url(#clip8602)\" style=\"stroke:#000000; stroke-width:1; stroke-opacity:1; fill:none\" points=\"\n",
       "  104.455,154.027 104.455,206.545 118.549,206.545 118.549,154.027 104.455,154.027 \n",
       "  \"/>\n",
       "<polygon clip-path=\"url(#clip8602)\" points=\"\n",
       "118.549,164.531 118.549,206.545 132.643,206.545 132.643,164.531 118.549,164.531 118.549,164.531 \n",
       "  \" fill=\"#009af9\" fill-opacity=\"1\"/>\n",
       "<polyline clip-path=\"url(#clip8602)\" style=\"stroke:#000000; stroke-width:1; stroke-opacity:1; fill:none\" points=\"\n",
       "  118.549,164.531 118.549,206.545 132.643,206.545 132.643,164.531 118.549,164.531 \n",
       "  \"/>\n",
       "<polygon clip-path=\"url(#clip8602)\" points=\"\n",
       "132.643,164.531 132.643,206.545 146.737,206.545 146.737,164.531 132.643,164.531 132.643,164.531 \n",
       "  \" fill=\"#009af9\" fill-opacity=\"1\"/>\n",
       "<polyline clip-path=\"url(#clip8602)\" style=\"stroke:#000000; stroke-width:1; stroke-opacity:1; fill:none\" points=\"\n",
       "  132.643,164.531 132.643,206.545 146.737,206.545 146.737,164.531 132.643,164.531 \n",
       "  \"/>\n",
       "<polygon clip-path=\"url(#clip8602)\" points=\"\n",
       "146.737,206.545 146.737,206.545 160.83,206.545 160.83,206.545 146.737,206.545 146.737,206.545 \n",
       "  \" fill=\"#009af9\" fill-opacity=\"1\"/>\n",
       "<polyline clip-path=\"url(#clip8602)\" style=\"stroke:#000000; stroke-width:1; stroke-opacity:1; fill:none\" points=\"\n",
       "  146.737,206.545 146.737,206.545 160.83,206.545 146.737,206.545 \n",
       "  \"/>\n",
       "<polygon clip-path=\"url(#clip8602)\" points=\"\n",
       "160.83,206.545 160.83,206.545 174.924,206.545 174.924,206.545 160.83,206.545 160.83,206.545 \n",
       "  \" fill=\"#009af9\" fill-opacity=\"1\"/>\n",
       "<polyline clip-path=\"url(#clip8602)\" style=\"stroke:#000000; stroke-width:1; stroke-opacity:1; fill:none\" points=\"\n",
       "  160.83,206.545 160.83,206.545 174.924,206.545 160.83,206.545 \n",
       "  \"/>\n",
       "<polygon clip-path=\"url(#clip8602)\" points=\"\n",
       "174.924,185.538 174.924,206.545 189.018,206.545 189.018,185.538 174.924,185.538 174.924,185.538 \n",
       "  \" fill=\"#009af9\" fill-opacity=\"1\"/>\n",
       "<polyline clip-path=\"url(#clip8602)\" style=\"stroke:#000000; stroke-width:1; stroke-opacity:1; fill:none\" points=\"\n",
       "  174.924,185.538 174.924,206.545 189.018,206.545 189.018,185.538 174.924,185.538 \n",
       "  \"/>\n",
       "<polygon clip-path=\"url(#clip8602)\" points=\"\n",
       "189.018,196.041 189.018,206.545 203.111,206.545 203.111,196.041 189.018,196.041 189.018,196.041 \n",
       "  \" fill=\"#009af9\" fill-opacity=\"1\"/>\n",
       "<polyline clip-path=\"url(#clip8602)\" style=\"stroke:#000000; stroke-width:1; stroke-opacity:1; fill:none\" points=\"\n",
       "  189.018,196.041 189.018,206.545 203.111,206.545 203.111,196.041 189.018,196.041 \n",
       "  \"/>\n",
       "<polygon clip-path=\"url(#clip8602)\" points=\"\n",
       "203.111,206.545 203.111,206.545 217.205,206.545 217.205,206.545 203.111,206.545 203.111,206.545 \n",
       "  \" fill=\"#009af9\" fill-opacity=\"1\"/>\n",
       "<polyline clip-path=\"url(#clip8602)\" style=\"stroke:#000000; stroke-width:1; stroke-opacity:1; fill:none\" points=\"\n",
       "  203.111,206.545 203.111,206.545 217.205,206.545 203.111,206.545 \n",
       "  \"/>\n",
       "<polygon clip-path=\"url(#clip8602)\" points=\"\n",
       "217.205,206.545 217.205,206.545 231.299,206.545 231.299,206.545 217.205,206.545 217.205,206.545 \n",
       "  \" fill=\"#009af9\" fill-opacity=\"1\"/>\n",
       "<polyline clip-path=\"url(#clip8602)\" style=\"stroke:#000000; stroke-width:1; stroke-opacity:1; fill:none\" points=\"\n",
       "  217.205,206.545 217.205,206.545 231.299,206.545 217.205,206.545 \n",
       "  \"/>\n",
       "<polygon clip-path=\"url(#clip8602)\" points=\"\n",
       "231.299,196.041 231.299,206.545 245.393,206.545 245.393,196.041 231.299,196.041 231.299,196.041 \n",
       "  \" fill=\"#009af9\" fill-opacity=\"1\"/>\n",
       "<polyline clip-path=\"url(#clip8602)\" style=\"stroke:#000000; stroke-width:1; stroke-opacity:1; fill:none\" points=\"\n",
       "  231.299,196.041 231.299,206.545 245.393,206.545 245.393,196.041 231.299,196.041 \n",
       "  \"/>\n",
       "<polygon clip-path=\"url(#clip8602)\" points=\"\n",
       "245.393,196.041 245.393,206.545 259.486,206.545 259.486,196.041 245.393,196.041 245.393,196.041 \n",
       "  \" fill=\"#009af9\" fill-opacity=\"1\"/>\n",
       "<polyline clip-path=\"url(#clip8602)\" style=\"stroke:#000000; stroke-width:1; stroke-opacity:1; fill:none\" points=\"\n",
       "  245.393,196.041 245.393,206.545 259.486,206.545 259.486,196.041 245.393,196.041 \n",
       "  \"/>\n",
       "<polygon clip-path=\"url(#clip8602)\" points=\"\n",
       "259.486,206.545 259.486,206.545 273.58,206.545 273.58,206.545 259.486,206.545 259.486,206.545 \n",
       "  \" fill=\"#009af9\" fill-opacity=\"1\"/>\n",
       "<polyline clip-path=\"url(#clip8602)\" style=\"stroke:#000000; stroke-width:1; stroke-opacity:1; fill:none\" points=\"\n",
       "  259.486,206.545 259.486,206.545 273.58,206.545 259.486,206.545 \n",
       "  \"/>\n",
       "<polygon clip-path=\"url(#clip8602)\" points=\"\n",
       "273.58,196.041 273.58,206.545 287.674,206.545 287.674,196.041 273.58,196.041 273.58,196.041 \n",
       "  \" fill=\"#009af9\" fill-opacity=\"1\"/>\n",
       "<polyline clip-path=\"url(#clip8602)\" style=\"stroke:#000000; stroke-width:1; stroke-opacity:1; fill:none\" points=\"\n",
       "  273.58,196.041 273.58,206.545 287.674,206.545 287.674,196.041 273.58,196.041 \n",
       "  \"/>\n",
       "<polygon clip-path=\"url(#clip8602)\" points=\"\n",
       "287.674,206.545 287.674,206.545 301.767,206.545 301.767,206.545 287.674,206.545 287.674,206.545 \n",
       "  \" fill=\"#009af9\" fill-opacity=\"1\"/>\n",
       "<polyline clip-path=\"url(#clip8602)\" style=\"stroke:#000000; stroke-width:1; stroke-opacity:1; fill:none\" points=\"\n",
       "  287.674,206.545 287.674,206.545 301.767,206.545 287.674,206.545 \n",
       "  \"/>\n",
       "<polygon clip-path=\"url(#clip8602)\" points=\"\n",
       "301.767,206.545 301.767,206.545 315.861,206.545 315.861,206.545 301.767,206.545 301.767,206.545 \n",
       "  \" fill=\"#009af9\" fill-opacity=\"1\"/>\n",
       "<polyline clip-path=\"url(#clip8602)\" style=\"stroke:#000000; stroke-width:1; stroke-opacity:1; fill:none\" points=\"\n",
       "  301.767,206.545 301.767,206.545 315.861,206.545 301.767,206.545 \n",
       "  \"/>\n",
       "<polygon clip-path=\"url(#clip8602)\" points=\"\n",
       "315.861,206.545 315.861,206.545 329.955,206.545 329.955,206.545 315.861,206.545 315.861,206.545 \n",
       "  \" fill=\"#009af9\" fill-opacity=\"1\"/>\n",
       "<polyline clip-path=\"url(#clip8602)\" style=\"stroke:#000000; stroke-width:1; stroke-opacity:1; fill:none\" points=\"\n",
       "  315.861,206.545 315.861,206.545 329.955,206.545 315.861,206.545 \n",
       "  \"/>\n",
       "<polygon clip-path=\"url(#clip8602)\" points=\"\n",
       "329.955,206.545 329.955,206.545 344.049,206.545 344.049,206.545 329.955,206.545 329.955,206.545 \n",
       "  \" fill=\"#009af9\" fill-opacity=\"1\"/>\n",
       "<polyline clip-path=\"url(#clip8602)\" style=\"stroke:#000000; stroke-width:1; stroke-opacity:1; fill:none\" points=\"\n",
       "  329.955,206.545 329.955,206.545 344.049,206.545 329.955,206.545 \n",
       "  \"/>\n",
       "<polygon clip-path=\"url(#clip8602)\" points=\"\n",
       "344.049,206.545 344.049,206.545 358.142,206.545 358.142,206.545 344.049,206.545 344.049,206.545 \n",
       "  \" fill=\"#009af9\" fill-opacity=\"1\"/>\n",
       "<polyline clip-path=\"url(#clip8602)\" style=\"stroke:#000000; stroke-width:1; stroke-opacity:1; fill:none\" points=\"\n",
       "  344.049,206.545 344.049,206.545 358.142,206.545 344.049,206.545 \n",
       "  \"/>\n",
       "<polygon clip-path=\"url(#clip8602)\" points=\"\n",
       "358.142,206.545 358.142,206.545 372.236,206.545 372.236,206.545 358.142,206.545 358.142,206.545 \n",
       "  \" fill=\"#009af9\" fill-opacity=\"1\"/>\n",
       "<polyline clip-path=\"url(#clip8602)\" style=\"stroke:#000000; stroke-width:1; stroke-opacity:1; fill:none\" points=\"\n",
       "  358.142,206.545 358.142,206.545 372.236,206.545 358.142,206.545 \n",
       "  \"/>\n",
       "<polygon clip-path=\"url(#clip8602)\" points=\"\n",
       "372.236,196.041 372.236,206.545 386.33,206.545 386.33,196.041 372.236,196.041 372.236,196.041 \n",
       "  \" fill=\"#009af9\" fill-opacity=\"1\"/>\n",
       "<polyline clip-path=\"url(#clip8602)\" style=\"stroke:#000000; stroke-width:1; stroke-opacity:1; fill:none\" points=\"\n",
       "  372.236,196.041 372.236,206.545 386.33,206.545 386.33,196.041 372.236,196.041 \n",
       "  \"/>\n",
       "<polygon clip-path=\"url(#clip8602)\" points=\"\n",
       "386.33,206.545 386.33,206.545 400.423,206.545 400.423,206.545 386.33,206.545 386.33,206.545 \n",
       "  \" fill=\"#009af9\" fill-opacity=\"1\"/>\n",
       "<polyline clip-path=\"url(#clip8602)\" style=\"stroke:#000000; stroke-width:1; stroke-opacity:1; fill:none\" points=\"\n",
       "  386.33,206.545 386.33,206.545 400.423,206.545 386.33,206.545 \n",
       "  \"/>\n",
       "<polygon clip-path=\"url(#clip8602)\" points=\"\n",
       "400.423,206.545 400.423,206.545 414.517,206.545 414.517,206.545 400.423,206.545 400.423,206.545 \n",
       "  \" fill=\"#009af9\" fill-opacity=\"1\"/>\n",
       "<polyline clip-path=\"url(#clip8602)\" style=\"stroke:#000000; stroke-width:1; stroke-opacity:1; fill:none\" points=\"\n",
       "  400.423,206.545 400.423,206.545 414.517,206.545 400.423,206.545 \n",
       "  \"/>\n",
       "<polygon clip-path=\"url(#clip8602)\" points=\"\n",
       "414.517,206.545 414.517,206.545 428.611,206.545 428.611,206.545 414.517,206.545 414.517,206.545 \n",
       "  \" fill=\"#009af9\" fill-opacity=\"1\"/>\n",
       "<polyline clip-path=\"url(#clip8602)\" style=\"stroke:#000000; stroke-width:1; stroke-opacity:1; fill:none\" points=\"\n",
       "  414.517,206.545 414.517,206.545 428.611,206.545 414.517,206.545 \n",
       "  \"/>\n",
       "<polygon clip-path=\"url(#clip8602)\" points=\"\n",
       "428.611,206.545 428.611,206.545 442.704,206.545 442.704,206.545 428.611,206.545 428.611,206.545 \n",
       "  \" fill=\"#009af9\" fill-opacity=\"1\"/>\n",
       "<polyline clip-path=\"url(#clip8602)\" style=\"stroke:#000000; stroke-width:1; stroke-opacity:1; fill:none\" points=\"\n",
       "  428.611,206.545 428.611,206.545 442.704,206.545 428.611,206.545 \n",
       "  \"/>\n",
       "<polygon clip-path=\"url(#clip8602)\" points=\"\n",
       "442.704,196.041 442.704,206.545 456.798,206.545 456.798,196.041 442.704,196.041 442.704,196.041 \n",
       "  \" fill=\"#009af9\" fill-opacity=\"1\"/>\n",
       "<polyline clip-path=\"url(#clip8602)\" style=\"stroke:#000000; stroke-width:1; stroke-opacity:1; fill:none\" points=\"\n",
       "  442.704,196.041 442.704,206.545 456.798,206.545 456.798,196.041 442.704,196.041 \n",
       "  \"/>\n",
       "</svg>\n"
      ]
     },
     "execution_count": 25,
     "metadata": {},
     "output_type": "execute_result"
    }
   ],
   "source": [
    "plt = histogram(solvetimes, xlabel=\"Time to solve to within 1% of optimality (s)\",\n",
    "    ylabel=\"Number of Optimizations\",\n",
    "    legend=false,\n",
    "    size=(500, 250),\n",
    "    nbins=30,\n",
    "    )\n",
    "savefig(plt, \"full-optimality-histogram.pdf\")\n",
    "savefig(plt, \"full-optimality-histogram.png\")\n",
    "plt"
   ]
  },
  {
   "cell_type": "code",
   "execution_count": 6,
   "metadata": {},
   "outputs": [
    {
     "data": {
      "text/plain": [
       "3801.2632196637232"
      ]
     },
     "execution_count": 6,
     "metadata": {},
     "output_type": "execute_result"
    }
   ],
   "source": [
    "std(solvetimes)"
   ]
  },
  {
   "cell_type": "code",
   "execution_count": null,
   "metadata": {},
   "outputs": [],
   "source": []
  }
 ],
 "metadata": {
  "kernelspec": {
   "display_name": "Julia 0.6.4",
   "language": "julia",
   "name": "julia-0.6"
  },
  "language_info": {
   "file_extension": ".jl",
   "mimetype": "application/julia",
   "name": "julia",
   "version": "0.6.4"
  }
 },
 "nbformat": 4,
 "nbformat_minor": 2
}
