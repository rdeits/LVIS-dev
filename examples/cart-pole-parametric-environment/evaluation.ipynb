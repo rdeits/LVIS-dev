{
 "cells": [
  {
   "cell_type": "code",
   "execution_count": null,
   "metadata": {},
   "outputs": [],
   "source": [
    "using Revise"
   ]
  },
  {
   "cell_type": "code",
   "execution_count": null,
   "metadata": {},
   "outputs": [],
   "source": [
    "using MeshCatMechanisms\n",
    "using MeshCat\n",
    "using RigidBodyDynamics\n",
    "using RigidBodySim\n",
    "using Flux\n",
    "using JLD2\n",
    "using Plots\n",
    "using LCPSim\n",
    "using LearningMPC\n",
    "using LearningMPC.Models\n",
    "using DataFrames\n",
    "using Blink"
   ]
  },
  {
   "cell_type": "code",
   "execution_count": null,
   "metadata": {},
   "outputs": [],
   "source": [
    "interval_net_param, lqrsol = jldopen(\"cartpole-interval-wall-params.jld2\") do file\n",
    "    file[\"net\"], file[\"lqrsol\"]\n",
    "end\n",
    "\n",
    "interval_net = jldopen(\"../2018-08-31-more-pendulum/cartpole-interval.jld2\") do file\n",
    "    file[\"net\"]\n",
    "end"
   ]
  },
  {
   "cell_type": "code",
   "execution_count": null,
   "metadata": {},
   "outputs": [],
   "source": [
    "@load \"library.jld2\" training"
   ]
  },
  {
   "cell_type": "code",
   "execution_count": null,
   "metadata": {},
   "outputs": [],
   "source": [
    "length(training)"
   ]
  },
  {
   "cell_type": "code",
   "execution_count": null,
   "metadata": {},
   "outputs": [],
   "source": [
    "typeof(training)"
   ]
  },
  {
   "cell_type": "code",
   "execution_count": null,
   "metadata": {},
   "outputs": [],
   "source": [
    "xx = linspace(-8, 8, 51)\n",
    "yy = linspace(0.5, 2.0, 51)\n",
    "getstate(x, y) = [0, 0, y, x, 0]\n",
    "plt = heatmap(xx, yy, (x, y) -> (getstate(x, y) - lqrsol.x0)' * lqrsol.S * (getstate(x, y) - lqrsol.x0), \n",
    "    color=:coolwarm,\n",
    "    clim=(0, 15000))\n",
    "title!(plt, \"LQR Cost-to-Go\")\n",
    "# xlabel!(plt, \"Initial x velocity\")\n",
    "# ylabel!(plt, \"Initial rotational velocity\")\n",
    "Plots.savefig(plt, \"lqr_cost_to_go.pdf\")\n",
    "plt"
   ]
  },
  {
   "cell_type": "code",
   "execution_count": null,
   "metadata": {},
   "outputs": [],
   "source": [
    "plt = heatmap(xx, yy, (x, y) -> Flux.Tracker.data(interval_net(getstate(x, y)[[1,2,4,5]]))[], color=:coolwarm,\n",
    "    clim=(0, 4000))\n",
    "title!(plt, \"Learned Cost-to-Go\")\n",
    "# xlabel!(plt, \"Initial x velocity\")\n",
    "# ylabel!(plt, \"Initial rotational velocity\")\n",
    "Plots.savefig(plt, \"learned_cost_to_go.pdf\")\n",
    "plt"
   ]
  },
  {
   "cell_type": "code",
   "execution_count": null,
   "metadata": {},
   "outputs": [],
   "source": [
    "gr()\n",
    "plt = heatmap(xx, yy, \n",
    "    (x, y) -> Flux.Tracker.data(interval_net_param(getstate(x, y)))[], color=:coolwarm,\n",
    "#     clim=(0, 6000),\n",
    ")\n",
    "title!(plt, \"Learned Cost-to-Go\")\n",
    "xlabel!(plt, \"Initial cart velocity\")\n",
    "ylabel!(plt, \"Distance to each wall\")\n",
    "Plots.savefig(plt, \"learned_cost_to_go_param.pdf\")\n",
    "plt"
   ]
  },
  {
   "cell_type": "code",
   "execution_count": null,
   "metadata": {},
   "outputs": [],
   "source": [
    "gr()\n",
    "plt = heatmap(xx, yy, \n",
    "    (x, y) -> Flux.Tracker.data(interval_net_param(getstate(x, y)))[], color=:coolwarm,\n",
    "    clim=(0, 6000))\n",
    "xl = xlims(plt)\n",
    "yl = ylims(plt)\n",
    "xa = linspace(0, 5)\n",
    "ya = xa .* 0.5\n",
    "plot!(plt, xa, ya, color=:yellow, linewidth=3, label=\"\")\n",
    "plot!(plt, .-xa, ya, color=:yellow, linewidth=3, label=\"\")\n",
    "xlims!(plt, xl)\n",
    "ylims!(plt, yl)\n",
    "title!(plt, \"Learned Cost-to-Go\")\n",
    "# xlabel!(plt, \"Initial x velocity\")\n",
    "# ylabel!(plt, \"Initial rotational velocity\")\n",
    "Plots.savefig(plt, \"learned_cost_to_go_param_annotated.pdf\")\n",
    "plt"
   ]
  },
  {
   "cell_type": "code",
   "execution_count": null,
   "metadata": {},
   "outputs": [],
   "source": [
    "pyplot()\n",
    "f = (x, y) -> Flux.Tracker.data(interval_net_param(getstate(x, y)))[]\n",
    "plt = Plots.contourf(xx, yy, f,\n",
    "    color=:coolwarm,\n",
    "    legend=:bottomright,\n",
    "#     clim=(0, 6000),\n",
    "#     nlevels=20,\n",
    "#     levels=collect(0:500:6000),\n",
    ")\n",
    "Plots.contour!(plt, xx, yy, f, color=cgrad([:black, :black]))\n",
    "xl = xlims(plt)\n",
    "yl = ylims(plt)\n",
    "xa = linspace(0, 5)\n",
    "ya = xa .* 0.5\n",
    "plot!(plt, xa, ya, color=:yellow, linewidth=3, label=\"y = ±0.5 x\")\n",
    "plot!(plt, .-xa, ya, color=:yellow, linewidth=3, label=\"\")\n",
    "xlims!(plt, xl)\n",
    "ylims!(plt, yl)\n",
    "xlabel!(plt, \"Initial cart velocity\")\n",
    "ylabel!(plt, \"Distance to each wall\")\n",
    "Plots.savefig(plt, \"learned_cost_contour_annotated.pdf\")\n",
    "plt"
   ]
  },
  {
   "cell_type": "code",
   "execution_count": null,
   "metadata": {},
   "outputs": [],
   "source": [
    "using Colors"
   ]
  },
  {
   "cell_type": "code",
   "execution_count": null,
   "metadata": {},
   "outputs": [],
   "source": [
    "colorant\"#fbb4ae\""
   ]
  },
  {
   "cell_type": "code",
   "execution_count": null,
   "metadata": {},
   "outputs": [],
   "source": [
    "pyplot()\n",
    "plt = wireframe(xx, yy, \n",
    "    (x, y) -> Flux.Tracker.data(interval_net_param(getstate(x, y)))[], \n",
    "#     color=:coolwarm,\n",
    "#     color=colorant\"#b3cde3\",\n",
    "#     clim=(0, 4000),\n",
    "#     alpha=0.9,\n",
    "    size=(700, 600),\n",
    "    camera=(5, 30),\n",
    "    label=\"Learned cost (parametric environment)\",\n",
    "    legend=:topleft,\n",
    "#     background_color=RGBA(1, 1, 1, 0),\n",
    ")\n",
    "xl = xlims(plt)\n",
    "yl = ylims(plt)\n",
    "zl = zlims(plt)\n",
    "\n",
    "xa = linspace(1, 4)\n",
    "ya = xa .* 0.5\n",
    "za = ((x, y) -> Flux.Tracker.data(interval_net_param(getstate(x, y)))[]).(xa, ya) .+ 1\n",
    "plot!(plt, xa, ya, za, color=:yellow, linewidth=3, label=\"y = ±0.5 x\")\n",
    "plot!(plt, .-xa, ya, za, color=:yellow, linewidth=3, label=\"\")\n",
    "\n",
    "f = (x) -> Flux.Tracker.data(interval_net([0, 0, x, 0]))[]\n",
    "plot!(plt, xx, fill(1.5, length(xx)), f.(xx), linewidth=2, color=:black, label=\"Learned cost (fixed environment)\")\n",
    "\n",
    "f = (x) -> ([0, 0, 1.5, x, 0] - lqrsol.x0)' * lqrsol.S * ([0, 0, 1.5, x, 0] - lqrsol.x0)\n",
    "plot!(plt, xx, fill(1.5, length(xx)), f.(xx), linewidth=2, color=colorant\"#e41a1c\", label=\"LQR cost\")\n",
    "\n",
    "\n",
    "xlims!(plt, xl)\n",
    "ylims!(plt, yl)\n",
    "zlims!(plt, zl)\n",
    "xlabel!(plt, \"Initial cart velocity\")\n",
    "ylabel!(plt, \"Distance to each wall\")\n",
    "Plots.savefig(plt, \"learned_param_cost_3d.pdf\")\n",
    "plt"
   ]
  },
  {
   "cell_type": "code",
   "execution_count": null,
   "metadata": {},
   "outputs": [],
   "source": [
    "plt = surface(xx, yy, \n",
    "    (x, y) -> Flux.Tracker.data(interval_net_param(getstate(x, y)))[], color=:coolwarm,\n",
    "    clim=(0, 4000),\n",
    "#     alpha=0.9\n",
    ")\n",
    "xl = xlims(plt)\n",
    "yl = ylims(plt)\n",
    "xa = linspace(0, 5)\n",
    "ya = xa .* 0.5\n",
    "za = ((x, y) -> Flux.Tracker.data(interval_net_param(getstate(x, y)))[]).(xa, ya)\n",
    "plot!(plt, xa, ya, za, color=:yellow, linewidth=5, label=\"\")\n",
    "plot!(plt, .-xa, ya, za, color=:yellow, linewidth=5, label=\"\")\n",
    "xlims!(plt, xl)\n",
    "ylims!(plt, yl)\n",
    "plt"
   ]
  },
  {
   "cell_type": "code",
   "execution_count": null,
   "metadata": {},
   "outputs": [],
   "source": [
    "gr()\n",
    "plt = heatmap(xx, yy, \n",
    "    (x, y) -> Flux.Tracker.data(interval_net_param([0, 0, y, 0, x]))[], color=:coolwarm,\n",
    "    clim=(0, 4000))\n",
    "title!(plt, \"Learned Cost-to-Go\")"
   ]
  },
  {
   "cell_type": "code",
   "execution_count": null,
   "metadata": {},
   "outputs": [],
   "source": []
  }
 ],
 "metadata": {
  "kernelspec": {
   "display_name": "Julia 0.6.4",
   "language": "julia",
   "name": "julia-0.6"
  },
  "language_info": {
   "file_extension": ".jl",
   "mimetype": "application/julia",
   "name": "julia",
   "version": "0.6.4"
  }
 },
 "nbformat": 4,
 "nbformat_minor": 2
}
