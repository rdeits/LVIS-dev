{
 "cells": [
  {
   "cell_type": "code",
   "execution_count": null,
   "metadata": {},
   "outputs": [],
   "source": [
    "using Revise"
   ]
  },
  {
   "cell_type": "code",
   "execution_count": null,
   "metadata": {},
   "outputs": [],
   "source": [
    "using MeshCatMechanisms\n",
    "using MeshCat\n",
    "using RigidBodyDynamics\n",
    "using RigidBodyDynamics.Contact\n",
    "using Flux\n",
    "using ProgressMeter\n",
    "using MLDataPattern\n",
    "using JLD2\n",
    "using Plots; gr()\n",
    "using LCPSim\n",
    "using LearningMPC\n",
    "using LearningMPC.Models\n",
    "using Blink"
   ]
  },
  {
   "cell_type": "code",
   "execution_count": null,
   "metadata": {},
   "outputs": [],
   "source": [
    "vis = Visualizer()\n",
    "open(vis, Window())"
   ]
  },
  {
   "cell_type": "code",
   "execution_count": null,
   "metadata": {},
   "outputs": [],
   "source": [
    "using GeometryTypes"
   ]
  },
  {
   "cell_type": "code",
   "execution_count": null,
   "metadata": {},
   "outputs": [],
   "source": [
    "delete!(vis)\n",
    "robot = CartPole(add_contacts=false, parameter_states=[\"wall_distance\"])\n",
    "mvis = MechanismVisualizer(robot, vis)\n",
    "\n",
    "setobject!(vis[:leftwall], HyperRectangle(Vec(-0.001, -0.5, -1.5), Vec(0.002, 1.0, 3.0)))\n",
    "setobject!(vis[:rightwall], HyperRectangle(Vec(-0.001, -0.5, -1.5), Vec(0.002, 1.0, 3.0)))"
   ]
  },
  {
   "cell_type": "code",
   "execution_count": null,
   "metadata": {},
   "outputs": [],
   "source": [
    "using CoordinateTransformations"
   ]
  },
  {
   "cell_type": "code",
   "execution_count": null,
   "metadata": {},
   "outputs": [],
   "source": [
    "function move_walls_in_vis(mvis::MechanismVisualizer, distance)\n",
    "    settransform!(mvis.visualizer[:leftwall], Translation(-distance, 0, 0))\n",
    "    settransform!(mvis.visualizer[:rightwall], Translation(distance, 0, 0))\n",
    "end"
   ]
  },
  {
   "cell_type": "code",
   "execution_count": null,
   "metadata": {},
   "outputs": [],
   "source": [
    "params = MPCParams(robot)\n",
    "lqrsol = LQRSolution(robot, params)\n",
    "net, loss = LearningMPC.interval_net([5, 24, 24, 1]; regularization=1e-6, penalty = identity)\n",
    "optimizer = Flux.ADAM(Flux.params(net); decay=1e-8)\n",
    "\n",
    "net_cost = LearningMPC.LearnedCost(lqrsol, net)\n",
    "\n",
    "net_mpc_params = MPCParams(robot)\n",
    "net_mpc_params.horizon = 1\n",
    "net_mpc_controller = MPCController(robot, net_mpc_params, net_cost, [lqrsol]);\n",
    "\n",
    "full_mpc_controller = MPCController(robot, params, lqrsol, [lqrsol, net_mpc_controller]);"
   ]
  },
  {
   "cell_type": "code",
   "execution_count": null,
   "metadata": {},
   "outputs": [],
   "source": [
    "function move_wall(contact::Tuple{RigidBody, Point3D, LCPSim.Obstacle}, new_origin::Point3D)\n",
    "    (contact[1], contact[2], move_wall(contact[3], new_origin))\n",
    "end\n",
    "\n",
    "function move_wall(obs::LCPSim.Obstacle, new_origin::Point3D)\n",
    "    LCPSim.Obstacle(obs.interior, move_wall(obs.contact_face, new_origin), \n",
    "        obs.μ, obs.contact_basis)\n",
    "end\n",
    "\n",
    "function move_wall(halfspace::HalfSpace3D, new_origin::Point3D)\n",
    "    HalfSpace3D(new_origin, halfspace.outward_normal)\n",
    "end\n",
    " "
   ]
  },
  {
   "cell_type": "code",
   "execution_count": null,
   "metadata": {},
   "outputs": [],
   "source": [
    "sample_sink = LearningMPC.MPCSampleSink(keep_nulls=false; \n",
    "    lqrsol=lqrsol, \n",
    "    lqr_warmstart_index=1,\n",
    "    learned_warmstart_index=2\n",
    ")\n",
    "\n",
    "playback_sink = LearningMPC.PlaybackSink{Float64}(mvis)\n",
    "\n",
    "full_mpc_controller.callback = LearningMPC.multiplex!(\n",
    "    sample_sink,\n",
    "    playback_sink\n",
    ")\n",
    "\n",
    "live_viewer = LearningMPC.live_viewer(mvis)\n",
    "\n",
    "dagger_controller = LearningMPC.multiplex!(\n",
    "    LearningMPC.dagger_controller(\n",
    "        full_mpc_controller,\n",
    "        net_mpc_controller),\n",
    "    live_viewer\n",
    "    )\n",
    "\n",
    "collect_into! = let x_init = nominal_state(robot), x0 = MechanismState{Float64}(robot.mechanism), sink = sample_sink\n",
    "    function (data::Vector{<:LearningMPC.Sample}, σv, wall_distance)\n",
    "        robot.environment.contacts .= \n",
    "            [move_wall(robot.environment.contacts[1], Point3D(robot.environment.contacts[1][3].contact_face.point.frame, -wall_distance, 0.0, 0.0)),\n",
    "             move_wall(robot.environment.contacts[2], Point3D(robot.environment.contacts[2][3].contact_face.point.frame, wall_distance, 0.0, 0.0))]\n",
    "        empty!(sink)\n",
    "        move_walls_in_vis(mvis, wall_distance)\n",
    "        LearningMPC.randomize!(x0, x_init, wall_distance / 3, σv)\n",
    "        set_configuration!(x0, findjoint(mechanism(robot), \"wall_distance\"), [wall_distance])\n",
    "        results = LCPSim.simulate(x0, \n",
    "            dagger_controller,\n",
    "            robot.environment, params.Δt, 100, \n",
    "            params.lcp_solver;\n",
    "            termination=x -> !(-π/4 <= configuration(x)[2] <= π/4))\n",
    "        append!(data, sink.samples)\n",
    "    end\n",
    "end"
   ]
  },
  {
   "cell_type": "code",
   "execution_count": null,
   "metadata": {},
   "outputs": [],
   "source": [
    "library_file = \"library.jld2\"\n",
    "dataset_file = \"cartpole-interval-wall-params.jld2\""
   ]
  },
  {
   "cell_type": "code",
   "execution_count": null,
   "metadata": {},
   "outputs": [],
   "source": [
    "if isfile(library_file)\n",
    "    all_training_data, all_validation_data = jldopen(library_file) do file\n",
    "        file[\"training\"], file[\"testing\"]\n",
    "    end\n",
    "else\n",
    "    all_training_data = Vector{Tuple{eltype(sample_sink.samples)}}()\n",
    "    all_validation_data = Vector{Tuple{eltype(sample_sink.samples)}}()\n",
    "end;\n"
   ]
  },
  {
   "cell_type": "code",
   "execution_count": null,
   "metadata": {
    "scrolled": false
   },
   "outputs": [],
   "source": [
    "datasets = Vector{LearningMPC.Dataset{Float64}}()\n",
    "losses = Vector{Tuple{Float64, Float64}}()\n",
    "\n",
    "N_iter = 100\n",
    "σv = 5.0\n",
    "\n",
    "@showprogress for i in 1:N_iter\n",
    "    dataset = LearningMPC.Dataset(lqrsol)\n",
    "    wall_distance = rand(linspace(0.5, 2.0, 100))\n",
    "    collect_into!(dataset.training_data, σv, wall_distance)\n",
    "    wall_distance = rand(linspace(0.5, 2.0, 100))\n",
    "    collect_into!(dataset.training_data, 0.1 * σv, wall_distance)\n",
    "    wall_distance = rand(linspace(0.5, 2.0, 100))\n",
    "    collect_into!(dataset.training_data, 0.01 * σv, wall_distance)\n",
    "    \n",
    "    filter!(dataset.training_data) do sample\n",
    "        all(isfinite, sample.input)\n",
    "    end\n",
    "\n",
    "    \n",
    "    new_samples = tuple.(dataset.training_data)\n",
    "    if !isempty(new_samples)\n",
    "        new_training, new_validation = splitobs(shuffleobs(new_samples); at=0.8)\n",
    "        append!(all_training_data, new_training)\n",
    "        append!(all_validation_data, new_validation)\n",
    "    end\n",
    "\n",
    "    @time for i in 1:50\n",
    "        Flux.train!(loss, shuffleobs(all_training_data), optimizer)\n",
    "        push!(losses, \n",
    "            (mean(xy -> Flux.Tracker.data(loss(xy...)), \n",
    "                  all_training_data),\n",
    "             mean(xy -> Flux.Tracker.data(loss(xy...)), \n",
    "                  all_validation_data)))\n",
    "    end\n",
    "    push!(datasets, dataset)\n",
    "    \n",
    "    jldopen(dataset_file, \"w\") do file\n",
    "        file[\"datasets\"] = datasets\n",
    "        file[\"net\"] = net\n",
    "        file[\"lqrsol\"] = lqrsol\n",
    "        file[\"mpc_params\"] = Dict(\n",
    "            \"Δt\" => params.Δt, \n",
    "            \"horizon\" => params.horizon,\n",
    "        )\n",
    "        file[\"losses\"] = losses\n",
    "    end\n",
    "    \n",
    "    jldopen(library_file, \"w\") do file\n",
    "        file[\"training\"] = all_training_data\n",
    "        file[\"testing\"] = all_validation_data\n",
    "    end\n",
    "    \n",
    "    plt = plot(first.(losses), label=\"training\")\n",
    "    plot!(plt, last.(losses), label=\"validation\")\n",
    "    ylims!(plt, (1, ylims(plt)[2]))\n",
    "    display(plt)\n",
    "\n",
    "end"
   ]
  },
  {
   "cell_type": "code",
   "execution_count": null,
   "metadata": {},
   "outputs": [],
   "source": []
  }
 ],
 "metadata": {
  "kernelspec": {
   "display_name": "Julia 0.6.4",
   "language": "julia",
   "name": "julia-0.6"
  },
  "language_info": {
   "file_extension": ".jl",
   "mimetype": "application/julia",
   "name": "julia",
   "version": "0.6.4"
  }
 },
 "nbformat": 4,
 "nbformat_minor": 2
}
