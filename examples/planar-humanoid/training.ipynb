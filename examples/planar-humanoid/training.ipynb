{
 "cells": [
  {
   "cell_type": "code",
   "execution_count": null,
   "metadata": {},
   "outputs": [],
   "source": [
    "using Revise"
   ]
  },
  {
   "cell_type": "code",
   "execution_count": null,
   "metadata": {},
   "outputs": [],
   "source": [
    "using MeshCatMechanisms\n",
    "using MeshCat\n",
    "using RigidBodyDynamics\n",
    "using Flux\n",
    "using ProgressMeter\n",
    "using MLDataPattern\n",
    "using JLD2\n",
    "using Plots; gr()\n",
    "using LCPSim\n",
    "using LearningMPC\n",
    "using LearningMPC.Models"
   ]
  },
  {
   "cell_type": "code",
   "execution_count": null,
   "metadata": {},
   "outputs": [],
   "source": [
    "using Blink"
   ]
  },
  {
   "cell_type": "code",
   "execution_count": null,
   "metadata": {},
   "outputs": [],
   "source": [
    "robot = BoxAtlas(add_contacts=false)\n",
    "mvis = MechanismVisualizer(robot)\n",
    "open(mvis, Window())"
   ]
  },
  {
   "cell_type": "code",
   "execution_count": null,
   "metadata": {},
   "outputs": [],
   "source": [
    "params = MPCParams(robot)\n",
    "lqrsol = LQRSolution(robot, params, false)\n",
    "net, loss = LearningMPC.interval_net([22, 48, 48, 1]; regularization=1e-3)\n",
    "optimizer = Flux.ADAM(Flux.params(net))\n",
    "\n",
    "net_cost = LearningMPC.LearnedCost(lqrsol, net)\n",
    "\n",
    "net_mpc_params = MPCParams(robot)\n",
    "net_mpc_params.horizon = 1\n",
    "net_mpc_controller = MPCController(robot, net_mpc_params, net_cost, [lqrsol]);\n",
    "\n",
    "full_mpc_controller = MPCController(robot, params, lqrsol, [lqrsol, net_mpc_controller]);\n",
    "\n",
    "lqr_mpc_controller = MPCController(robot, (p = MPCParams(robot); p.horizon=1; p), lqrsol, [lqrsol])"
   ]
  },
  {
   "cell_type": "code",
   "execution_count": null,
   "metadata": {},
   "outputs": [],
   "source": [
    "sample_sink = LearningMPC.MPCSampleSink(keep_nulls=false; lqrsol=lqrsol, \n",
    "    lqr_warmstart_index=1,\n",
    "    learned_warmstart_index=2)\n",
    "\n",
    "playback_sink = LearningMPC.PlaybackSink{Float64}(mvis)\n",
    "\n",
    "full_mpc_controller.callback = LearningMPC.multiplex!(\n",
    "    sample_sink,\n",
    "    playback_sink\n",
    ")\n",
    "\n",
    "live_viewer = LearningMPC.live_viewer(mvis)\n",
    "\n",
    "dagger_controller = LearningMPC.multiplex!(\n",
    "    LearningMPC.dagger_controller(\n",
    "        full_mpc_controller,\n",
    "        net_mpc_controller),\n",
    "    live_viewer\n",
    "    )\n",
    "\n",
    "collect_into! = let x_init = nominal_state(robot), x0 = MechanismState{Float64}(robot.mechanism), sink = sample_sink\n",
    "    function (data::Vector{<:LearningMPC.Sample}, σv)\n",
    "        empty!(sink)\n",
    "#         copy!(x0, x_init)\n",
    "#         set_velocity!(x0, findjoint(x0.mechanism, \"floating_base\"),\n",
    "#             [σv * (2 * (rand() - 0.5)), 0.0, 0.0])\n",
    "        LearningMPC.randomize!(x0, x_init, 0.0, σv)\n",
    "#         Δv = zeros(num_velocities(x0))\n",
    "#         Δv[1] = σv * (2 * rand() - 0.5)\n",
    "#         set_velocity!(x0, velocity(x0) .+ Δv)\n",
    "        results = LCPSim.simulate(x0, \n",
    "            dagger_controller,\n",
    "            robot.environment, params.Δt, 25, \n",
    "            params.lcp_solver;\n",
    "            termination=x -> configuration(x)[3] > π/4 || configuration(x)[3] < -π/4);\n",
    "        append!(data, sink.samples)\n",
    "    end\n",
    "end"
   ]
  },
  {
   "cell_type": "code",
   "execution_count": null,
   "metadata": {},
   "outputs": [],
   "source": [
    "library_file = \"library.jld2\"\n",
    "dataset_file = \"boxatlas-regularized.jld2\""
   ]
  },
  {
   "cell_type": "markdown",
   "metadata": {},
   "source": [
    "Note: the library was initialized by taking the libraries from the 20th and the 21st, combining and shuffling them as below:"
   ]
  },
  {
   "cell_type": "code",
   "execution_count": null,
   "metadata": {},
   "outputs": [],
   "source": [
    "# t, v = jldopen(\"../2018-08-20-box-atlas-miqp/library.jld2\") do file\n",
    "#     file[\"training\"], file[\"testing\"]\n",
    "# end\n",
    "# old_samples = vcat(t, v);\n",
    "# t, v = jldopen(\"../2018-08-21-comparing-mimic-and-bounds/library.jld2\") do file\n",
    "#     file[\"training\"], file[\"testing\"]\n",
    "# end\n",
    "# append!(old_samples, t)\n",
    "# append!(old_samples, v)\n",
    "\n",
    "# t, v = jldopen(\"../2018-08-21-comparing-mimic-and-bounds/library-mimic.jld2\") do file\n",
    "#     file[\"training\"], file[\"testing\"]\n",
    "# end\n",
    "# append!(old_samples, t)\n",
    "# append!(old_samples, v)\n",
    "\n",
    "# t, v = splitobs(shuffleobs(old_samples); at=0.8)\n",
    "# jldopen(library_file, \"w\") do file\n",
    "#     file[\"training\"] = Vector(t)\n",
    "#     file[\"testing\"] = Vector(v)\n",
    "# end;"
   ]
  },
  {
   "cell_type": "code",
   "execution_count": null,
   "metadata": {},
   "outputs": [],
   "source": [
    "if isfile(library_file)\n",
    "    all_training_data, all_validation_data = jldopen(library_file) do file\n",
    "        file[\"training\"], file[\"testing\"]\n",
    "    end\n",
    "else\n",
    "    all_training_data = Vector{Tuple{eltype(sample_sink.samples)}}()\n",
    "    all_validation_data = Vector{Tuple{eltype(sample_sink.samples)}}()\n",
    "end;\n"
   ]
  },
  {
   "cell_type": "code",
   "execution_count": null,
   "metadata": {
    "scrolled": false
   },
   "outputs": [],
   "source": [
    "datasets = Vector{LearningMPC.Dataset{Float64}}()\n",
    "losses = Vector{Tuple{Float64, Float64}}()\n",
    "\n",
    "N_iter = 10\n",
    "σv = 3.0\n",
    "\n",
    "@showprogress for i in 1:N_iter\n",
    "    dataset = LearningMPC.Dataset(lqrsol)\n",
    "    for i in 1:3\n",
    "        collect_into!(dataset.training_data, σv * i / N_iter)\n",
    "    end\n",
    "    \n",
    "    filter!(dataset.training_data) do sample\n",
    "        all(isfinite, sample.input)\n",
    "    end\n",
    "    \n",
    "    new_samples = tuple.(dataset.training_data)\n",
    "    new_training, new_validation = splitobs(shuffleobs(new_samples); at=0.8)\n",
    "    append!(all_training_data, new_training)\n",
    "    append!(all_validation_data, new_validation)\n",
    "\n",
    "    @time for i in 1:30\n",
    "        Flux.train!(loss, shuffleobs(all_training_data), optimizer)\n",
    "        push!(losses, \n",
    "            (mean(xy -> Flux.Tracker.data(loss(xy...)), \n",
    "                  all_training_data),\n",
    "             mean(xy -> Flux.Tracker.data(loss(xy...)), \n",
    "                  all_validation_data)))\n",
    "    end\n",
    "    push!(datasets, dataset)\n",
    "    \n",
    "    jldopen(dataset_file, \"w\") do file\n",
    "        file[\"datasets\"] = datasets\n",
    "        file[\"net\"] = net\n",
    "        file[\"lqrsol\"] = lqrsol\n",
    "        file[\"mpc_params\"] = Dict(\n",
    "            \"Δt\" => params.Δt, \n",
    "            \"horizon\" => params.horizon,\n",
    "        )\n",
    "        file[\"losses\"] = losses\n",
    "    end\n",
    "    \n",
    "#     jldopen(library_file, \"w\") do file\n",
    "#         file[\"training\"] = all_training_data\n",
    "#         file[\"testing\"] = all_validation_data\n",
    "#     end\n",
    "    \n",
    "    plt = plot(first.(losses), label=\"training\")\n",
    "    plot!(plt, last.(losses), label=\"validation\")\n",
    "    ylims!(plt, (0, ylims(plt)[2]))\n",
    "    display(plt)\n",
    "\n",
    "end"
   ]
  },
  {
   "cell_type": "code",
   "execution_count": null,
   "metadata": {},
   "outputs": [],
   "source": []
  }
 ],
 "metadata": {
  "kernelspec": {
   "display_name": "Julia 0.6.4",
   "language": "julia",
   "name": "julia-0.6"
  },
  "language_info": {
   "file_extension": ".jl",
   "mimetype": "application/julia",
   "name": "julia",
   "version": "0.6.4"
  }
 },
 "nbformat": 4,
 "nbformat_minor": 2
}
