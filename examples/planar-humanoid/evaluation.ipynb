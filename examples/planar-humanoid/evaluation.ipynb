{
 "cells": [
  {
   "cell_type": "code",
   "execution_count": null,
   "metadata": {},
   "outputs": [],
   "source": [
    "using Revise"
   ]
  },
  {
   "cell_type": "code",
   "execution_count": null,
   "metadata": {},
   "outputs": [],
   "source": [
    "using MeshCatMechanisms\n",
    "using MeshCat\n",
    "using RigidBodyDynamics\n",
    "using RigidBodySim\n",
    "using Flux\n",
    "using JLD2\n",
    "using Plots; gr()\n",
    "using LCPSim\n",
    "using LearningMPC\n",
    "using LearningMPC.Models\n",
    "using DataFrames\n",
    "using Blink\n",
    "using DataFrames"
   ]
  },
  {
   "cell_type": "code",
   "execution_count": null,
   "metadata": {},
   "outputs": [],
   "source": [
    "robot = BoxAtlas(add_contacts=true)\n",
    "position_bounds(findjoint(mechanism(robot), \"floating_base\")) .= RigidBodyDynamics.Bounds(-Inf, Inf)\n",
    "mvis = MechanismVisualizer(robot)\n",
    "open(mvis, Window())"
   ]
  },
  {
   "cell_type": "code",
   "execution_count": null,
   "metadata": {},
   "outputs": [],
   "source": [
    "using CoordinateTransformations"
   ]
  },
  {
   "cell_type": "code",
   "execution_count": null,
   "metadata": {},
   "outputs": [],
   "source": [
    "settransform!(mvis.visualizer[\"/Cameras/default\"], Translation(3.5, -0.45, 1.1) ∘ LinearMap(RotZ(π/2)))\n",
    "settransform!(mvis.visualizer[\"/Cameras/default/rotated/<object>\"], Translation(0., 0, 0))\n",
    "setprop!(mvis.visualizer[\"/Cameras/default/rotated/<object>\"], \"zoom\", 2.0)\n",
    "setprop!(mvis.visualizer[\"/Grid\"], \"visible\", 0)"
   ]
  },
  {
   "cell_type": "code",
   "execution_count": null,
   "metadata": {},
   "outputs": [],
   "source": [
    "interval_net, lqrsol = jldopen(\"boxatlas-regularized.jld2\") do file\n",
    "    file[\"net\"], file[\"lqrsol\"]\n",
    "end\n",
    "interval_net_mpc = LearningMPC.mpc_controller(robot, LearningMPC.LearnedCost(lqrsol, interval_net), Δt=0.05)\n",
    "\n",
    "upperbound_net = jldopen(\"boxatlas-regularized-upperbound.jld2\") do file\n",
    "    file[\"net\"]\n",
    "end\n",
    "upperbound_net_mpc = LearningMPC.mpc_controller(robot, LearningMPC.LearnedCost(lqrsol, upperbound_net), Δt=0.05)\n",
    "\n",
    "lowerbound_net = jldopen(\"boxatlas-regularized-lowerbound.jld2\") do file\n",
    "    file[\"net\"]\n",
    "end\n",
    "lowerbound_net_mpc = LearningMPC.mpc_controller(robot, LearningMPC.LearnedCost(lqrsol, lowerbound_net), Δt=0.05)\n",
    "\n",
    "policy_net = jldopen(\"boxatlas-regularized-mimic.jld2\") do file\n",
    "    file[\"net\"]\n",
    "end\n",
    "\n",
    "policy_net_controller = let net = policy_net\n",
    "    function (τ, t, x)\n",
    "        τ .= Flux.Tracker.data(net(LearningMPC.qv(x)))\n",
    "    end\n",
    "end\n",
    "\n",
    "lqr_mpc = LearningMPC.mpc_controller(robot, lqrsol, Δt=0.05);"
   ]
  },
  {
   "cell_type": "code",
   "execution_count": null,
   "metadata": {},
   "outputs": [],
   "source": [
    "state = nominal_state(robot)\n",
    "set_velocity!(state, [0.5, 0])\n",
    "problem = LearningMPC.simulation_problem(state, interval_net_mpc, 0.01, 4.0)\n",
    "@time solution = RigidBodySim.solve(problem, Tsit5(), abs_tol=1e-8, dt=1e-6)\n",
    "setanimation!(mvis, solution)"
   ]
  },
  {
   "cell_type": "code",
   "execution_count": null,
   "metadata": {},
   "outputs": [],
   "source": [
    "xx = linspace(-1.5, 1.5, 51)\n",
    "yy = linspace(-π, π, 51)\n",
    "getstate = (x, y) -> begin\n",
    "    z = copy(lqrsol.x0)\n",
    "    z[11 + 1] = x\n",
    "    z[11 + 3] = y\n",
    "    z\n",
    "end\n",
    "plt = heatmap(xx, yy, (x, y) -> (getstate(x, y) - lqrsol.x0)' * lqrsol.S * (getstate(x, y) - lqrsol.x0), \n",
    "    color=:coolwarm, clim=(0, 300))\n",
    "title!(plt, \"LQR Cost-to-Go\")\n",
    "xlabel!(plt, \"Initial x velocity\")\n",
    "ylabel!(plt, \"Initial rotational velocity\")\n",
    "savefig(plt, \"lqr_cost_to_go.pdf\")\n",
    "plt"
   ]
  },
  {
   "cell_type": "code",
   "execution_count": null,
   "metadata": {},
   "outputs": [],
   "source": [
    "plt = heatmap(xx, yy, (x, y) -> Flux.Tracker.data(interval_net(getstate(x, y)))[], color=:coolwarm, clim=(0, 300))\n",
    "title!(plt, \"Learned Cost-to-Go\")\n",
    "xlabel!(plt, \"Initial x velocity\")\n",
    "ylabel!(plt, \"Initial rotational velocity\")\n",
    "savefig(plt, \"learned_cost_to_go.pdf\")\n",
    "plt"
   ]
  },
  {
   "cell_type": "code",
   "execution_count": null,
   "metadata": {},
   "outputs": [],
   "source": [
    "policies = [(lqrsol, \"LQR\"), \n",
    "            (lqr_mpc, \"MPC + LQR cost\"),\n",
    "            (policy_net_controller, \"Policy Net\"), \n",
    "            (interval_net_mpc, \"MPC + Learned Interval\"),\n",
    "            (upperbound_net_mpc, \"MPC + Learned Upper Bound\"),\n",
    "            (lowerbound_net_mpc, \"MPC + Learned Lower Bound\")\n",
    "]\n",
    "\n",
    "tables = map(policies) do args\n",
    "    controller, label = args\n",
    "    LearningMPC.run_evaluations(\n",
    "        controller,\n",
    "        label,\n",
    "        robot,\n",
    "        lqrsol,\n",
    "        [(1, [0])],\n",
    "        [(1, linspace(-1.5, 1.5, 15)), (3, linspace(-π, π, 15))]; \n",
    "        mvis=mvis,\n",
    "        horizon=400)\n",
    "end\n",
    "cost_table = vcat(tables...)"
   ]
  },
  {
   "cell_type": "code",
   "execution_count": null,
   "metadata": {},
   "outputs": [],
   "source": [
    "@save \"cost_table-3.jld2\" cost_table"
   ]
  },
  {
   "cell_type": "code",
   "execution_count": null,
   "metadata": {},
   "outputs": [],
   "source": [
    "@load \"cost_table-3.jld2\" cost_table"
   ]
  },
  {
   "cell_type": "code",
   "execution_count": null,
   "metadata": {},
   "outputs": [],
   "source": [
    "function cost_heatmap(table, label; clim=(0, 30000), feature=:running_cost)\n",
    "    xs = sort(unique(row[:v0][1] for row in eachrow(table) if row[:controller] == label))              \n",
    "    ys = sort(unique(row[:v0][3] for row in eachrow(table) if row[:controller] == label))\n",
    "    zs = zeros(length(ys), length(xs))\n",
    "    for row in eachrow(table)\n",
    "        if row[:controller] == label\n",
    "            x = row[:v0][1]\n",
    "            y = row[:v0][3]\n",
    "            ix = findfirst(k -> k == x, xs)\n",
    "            iy = findfirst(k -> k == y, ys)\n",
    "            zs[iy, ix] = row[feature][1]\n",
    "        end\n",
    "    end\n",
    "\n",
    "    plt = heatmap(xs, ys, zs, clim=clim, color=:coolwarm, aspect_ratio=1.5/π)\n",
    "    xlabel!(plt, \"Initial x velocity\")\n",
    "    ylabel!(plt, \"Initial rotational velocity\")\n",
    "    title!(plt, label)\n",
    "    plt\n",
    "end\n",
    "                                \n"
   ]
  },
  {
   "cell_type": "code",
   "execution_count": null,
   "metadata": {},
   "outputs": [],
   "source": [
    "state = nominal_state(robot)\n",
    "center_of_mass(state)\n",
    "z = center_of_mass(state).v[3]\n",
    "g = 9.81"
   ]
  },
  {
   "cell_type": "code",
   "execution_count": null,
   "metadata": {},
   "outputs": [],
   "source": [
    "xcapture = translation(transform_to_root(state, findbody(mechanism(robot), \"l_foot_sole\")))[2]"
   ]
  },
  {
   "cell_type": "code",
   "execution_count": null,
   "metadata": {},
   "outputs": [],
   "source": [
    "state = nominal_state(robot)\n",
    "I = get(findbody(mechanism(robot), \"pelvis\").inertia)\n",
    "Ib = get(findbody(mechanism(robot), \"r_hand_mount\").inertia)\n",
    "I += transform(Ib, relative_transform(state, Ib.frame, I.frame))\n",
    "Ib = get(findbody(mechanism(robot), \"l_hand_mount\").inertia)\n",
    "I += transform(Ib, relative_transform(state, Ib.frame, I.frame))\n",
    "Ib = get(findbody(mechanism(robot), \"r_foot_sole\").inertia)\n",
    "I += transform(Ib, relative_transform(state, Ib.frame, I.frame))\n",
    "Ib = get(findbody(mechanism(robot), \"l_foot_sole\").inertia)\n",
    "I += transform(Ib, relative_transform(state, Ib.frame, I.frame))\n",
    "\n",
    "J = I.moment[1]\n",
    "m = I.mass"
   ]
  },
  {
   "cell_type": "code",
   "execution_count": null,
   "metadata": {},
   "outputs": [],
   "source": [
    "tofilename(x) = lowercase(replace(replace(x, \" \", \"_\"), r\"[^a-zA-Z0-9_]\", \"\"))\n",
    "\n",
    "function cost_heatmap_annotated(label)\n",
    "    plt = cost_heatmap(cost_table, label)\n",
    "    title!(plt, \"$label: Running Cost\")\n",
    "    savefig(plt, \"$(tofilename(label))_running_cost.svg\")\n",
    "    savefig(plt, \"$(tofilename(label))_running_cost.pdf\")\n",
    "    savefig(plt, \"$(tofilename(label))_running_cost.png\")\n",
    "    xx = linspace(-1.5, 1.5, 5)\n",
    "    yy = @. (xx - xcapture / sqrt(z / g)) / (J / (m * z))\n",
    "    plot!(plt, xx, yy, color=:yellow, linewidth=3, label=\"\")\n",
    "    xlims!(plt, -1.5, 1.5)\n",
    "    yy = @. (xx + xcapture / sqrt(z / g)) / (J / (m * z))\n",
    "    plot!(plt, xx, yy, color=:yellow, linewidth=3, label=\"\")\n",
    "    xlims!(plt, -1.5, 1.5)\n",
    "    ylims!(plt, -π, π)\n",
    "    savefig(plt, \"$(tofilename(label))_running_cost_with_capture.svg\")\n",
    "    savefig(plt, \"$(tofilename(label))_running_cost_with_capture.pdf\")\n",
    "    savefig(plt, \"$(tofilename(label))_running_cost_with_capture.png\")\n",
    "    plt\n",
    "end"
   ]
  },
  {
   "cell_type": "code",
   "execution_count": null,
   "metadata": {},
   "outputs": [],
   "source": [
    "cost_heatmap_annotated(\"LQR\")"
   ]
  },
  {
   "cell_type": "code",
   "execution_count": null,
   "metadata": {},
   "outputs": [],
   "source": [
    "cost_heatmap_annotated(\"MPC + LQR cost\")"
   ]
  },
  {
   "cell_type": "code",
   "execution_count": null,
   "metadata": {},
   "outputs": [],
   "source": [
    "cost_heatmap_annotated(\"Policy Net\")"
   ]
  },
  {
   "cell_type": "code",
   "execution_count": null,
   "metadata": {},
   "outputs": [],
   "source": [
    "cost_heatmap_annotated(\"MPC + Learned Interval\")"
   ]
  },
  {
   "cell_type": "code",
   "execution_count": null,
   "metadata": {},
   "outputs": [],
   "source": [
    "cost_heatmap_annotated(\"MPC + Learned Upper Bound\")"
   ]
  },
  {
   "cell_type": "code",
   "execution_count": null,
   "metadata": {},
   "outputs": [],
   "source": [
    "cost_heatmap_annotated(\"MPC + Learned Lower Bound\")"
   ]
  },
  {
   "cell_type": "code",
   "execution_count": null,
   "metadata": {},
   "outputs": [],
   "source": []
  }
 ],
 "metadata": {
  "kernelspec": {
   "display_name": "Julia 0.6.4",
   "language": "julia",
   "name": "julia-0.6"
  },
  "language_info": {
   "file_extension": ".jl",
   "mimetype": "application/julia",
   "name": "julia",
   "version": "0.6.4"
  }
 },
 "nbformat": 4,
 "nbformat_minor": 2
}
