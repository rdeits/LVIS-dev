{
 "cells": [
  {
   "cell_type": "code",
   "execution_count": null,
   "metadata": {},
   "outputs": [],
   "source": [
    "using Flux\n",
    "using JLD2\n",
    "using Plots; gr()\n",
    "using LCPSim\n",
    "using LearningMPC"
   ]
  },
  {
   "cell_type": "code",
   "execution_count": null,
   "metadata": {},
   "outputs": [],
   "source": [
    "@load \"library.jld2\" training\n",
    "box_atlas_training = jldopen(\"../2018-08-26-comparing-mimic-and-bounds/library.jld2\") do file\n",
    "    file[\"training\"]\n",
    "    end;"
   ]
  },
  {
   "cell_type": "code",
   "execution_count": null,
   "metadata": {},
   "outputs": [],
   "source": [
    "gap(s) = abs(s.mip.objective_bound - s.mip.objective_value) / abs(s.mip.objective_value)"
   ]
  },
  {
   "cell_type": "code",
   "execution_count": null,
   "metadata": {},
   "outputs": [],
   "source": [
    "sum(x -> x > 1.1, gap.(first.(box_atlas_training))) / length(box_atlas_training)"
   ]
  },
  {
   "cell_type": "code",
   "execution_count": null,
   "metadata": {},
   "outputs": [],
   "source": [
    "x = gap.(first.(box_atlas_training))\n",
    "x = x[isfinite.(x)]\n",
    "x = x[(i -> i < 1.1).(x)]\n",
    "plt1 = histogram(x, nbins=100,\n",
    "    xlabel = \"Mixed-Integer Optimality Gap after 3 s\",\n",
    "    ylabel = \"Number of \\n Optimimizations\",\n",
    "    label = \"Humanoid\", \n",
    "    xlims = (0, 1.1),\n",
    "    yscale=:log10,\n",
    "#     title = \"Humanoid\",\n",
    ")\n",
    "\n",
    "plt2 = histogram(gap.(first.(training)), nbins=100,\n",
    "    xlabel = \"Mixed-Integer Optimality Gap after 3 s\",\n",
    "    ylabel = \"Number of \\n Optimimizations\",\n",
    "    label = \"Cart-Pole\",\n",
    "    xlims = (0, 1.1),\n",
    "    color=colorant\"orange\",\n",
    "    yscale=:log10,\n",
    "#     title = \"Cart-Pole\",\n",
    "\n",
    ")\n",
    "\n",
    "plt = plot(plt2, plt1, layout=(2, 1), legend=:top)\n",
    "savefig(plt, \"optimality_gap_histogram.pdf\")\n",
    "savefig(plt, \"optimality_gap_histogram.png\")\n",
    "plt"
   ]
  },
  {
   "cell_type": "code",
   "execution_count": null,
   "metadata": {},
   "outputs": [],
   "source": [
    "length(training)"
   ]
  },
  {
   "cell_type": "code",
   "execution_count": null,
   "metadata": {},
   "outputs": [],
   "source": [
    "length(box_atlas_training)"
   ]
  },
  {
   "cell_type": "code",
   "execution_count": null,
   "metadata": {},
   "outputs": [],
   "source": [
    "box_atlas_mimic_training = jldopen(\"../2018-08-26-comparing-mimic-and-bounds/library-mimic.jld2\") do file\n",
    "    file[\"training\"]\n",
    "    end;"
   ]
  },
  {
   "cell_type": "code",
   "execution_count": null,
   "metadata": {},
   "outputs": [],
   "source": []
  }
 ],
 "metadata": {
  "kernelspec": {
   "display_name": "Julia 0.6.4",
   "language": "julia",
   "name": "julia-0.6"
  },
  "language_info": {
   "file_extension": ".jl",
   "mimetype": "application/julia",
   "name": "julia",
   "version": "0.6.4"
  }
 },
 "nbformat": 4,
 "nbformat_minor": 2
}
