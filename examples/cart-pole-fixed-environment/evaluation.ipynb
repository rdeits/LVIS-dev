{
 "cells": [
  {
   "cell_type": "code",
   "execution_count": null,
   "metadata": {},
   "outputs": [],
   "source": [
    "using Revise"
   ]
  },
  {
   "cell_type": "code",
   "execution_count": null,
   "metadata": {},
   "outputs": [],
   "source": [
    "using MeshCatMechanisms\n",
    "using MeshCat\n",
    "using RigidBodyDynamics\n",
    "using RigidBodySim\n",
    "using Flux\n",
    "using JLD2\n",
    "using Plots; gr()\n",
    "using LCPSim\n",
    "using LearningMPC\n",
    "using LearningMPC.Models\n",
    "using DataFrames\n",
    "using Blink"
   ]
  },
  {
   "cell_type": "code",
   "execution_count": null,
   "metadata": {},
   "outputs": [],
   "source": [
    "vis = Visualizer()\n",
    "open(vis, Window())"
   ]
  },
  {
   "cell_type": "code",
   "execution_count": null,
   "metadata": {},
   "outputs": [],
   "source": [
    "delete!(vis)\n",
    "\n",
    "robot = CartPole(add_contacts=true)\n",
    "mvis = MechanismVisualizer(robot, vis)"
   ]
  },
  {
   "cell_type": "code",
   "execution_count": null,
   "metadata": {},
   "outputs": [],
   "source": [
    "interval_net, lqrsol = jldopen(\"cartpole-interval.jld2\") do file\n",
    "    file[\"net\"], file[\"lqrsol\"]\n",
    "end\n",
    "interval_net_mpc = LearningMPC.mpc_controller(robot, LearningMPC.LearnedCost(lqrsol, interval_net), Δt=0.025)\n",
    "\n",
    "full_mpc_controller = MPCController(robot, MPCParams(robot), lqrsol, [lqrsol]);\n",
    "\n",
    "policy_net = jldopen(\"cartpole-mimic.jld2\") do file\n",
    "    file[\"net\"]\n",
    "end\n",
    "\n",
    "policy_net_controller = let net = policy_net\n",
    "    function (τ, t, x)\n",
    "        τ .= Flux.Tracker.data(net(LearningMPC.qv(x)))\n",
    "    end\n",
    "end\n",
    "\n",
    "lqr_mpc = LearningMPC.mpc_controller(robot, lqrsol, Δt=0.025);"
   ]
  },
  {
   "cell_type": "code",
   "execution_count": null,
   "metadata": {},
   "outputs": [],
   "source": [
    "@load \"library.jld2\" training"
   ]
  },
  {
   "cell_type": "code",
   "execution_count": null,
   "metadata": {},
   "outputs": [],
   "source": [
    "training[indmax([d[1].mip.objective_bound for d in training])]"
   ]
  },
  {
   "cell_type": "code",
   "execution_count": null,
   "metadata": {},
   "outputs": [],
   "source": [
    "xx = linspace(-8, 8, 51)\n",
    "yy = linspace(-π, π, 51)\n",
    "getstate(x, y) = [0, 0, x, y]\n",
    "plt = heatmap(xx, yy, (x, y) -> (getstate(x, y) - lqrsol.x0)' * lqrsol.S * (getstate(x, y) - lqrsol.x0), \n",
    "    color=:coolwarm,\n",
    "    clim=(0, 15000))\n",
    "title!(plt, \"LQR Cost-to-Go\")\n",
    "xlabel!(plt, \"Initial x velocity\")\n",
    "ylabel!(plt, \"Initial rotational velocity\")\n",
    "savefig(plt, \"lqr_cost_to_go.pdf\")\n",
    "plt"
   ]
  },
  {
   "cell_type": "code",
   "execution_count": null,
   "metadata": {},
   "outputs": [],
   "source": [
    "plt = heatmap(xx, yy, (x, y) -> Flux.Tracker.data(interval_net(getstate(x, y)))[], color=:coolwarm,\n",
    "    clim=(0, 15000))\n",
    "title!(plt, \"Learned Cost-to-Go\")\n",
    "xlabel!(plt, \"Initial x velocity\")\n",
    "ylabel!(plt, \"Initial rotational velocity\")\n",
    "savefig(plt, \"learned_cost_to_go.pdf\")\n",
    "plt"
   ]
  },
  {
   "cell_type": "code",
   "execution_count": null,
   "metadata": {},
   "outputs": [],
   "source": [
    "# d = [x for x in training if norm(x[1].state[[1,2,4]]) < 0.1]\n",
    "# plt = scatter([s[1].state[3] for s in d], [s[1].mip.objective_value for s in d])\n",
    "plt = plot()\n",
    "xx = linspace(-8, 8, 101)\n",
    "yy = [Flux.Tracker.data(interval_net(getstate(xi, 0)))[1] for xi in xx]\n",
    "plot!(plt, xx, yy, label=\"LQR cost-to-go\")\n",
    "yy = [getstate(xi, 0)' * lqrsol.S * getstate(xi, 0) for xi in xx]\n",
    "plot!(plt, xx, yy, label=\"Learned cost-to-go\")\n",
    "xlabel!(plt, \"Initial cart velocity (m/s)\")\n",
    "ylabel!(plt, \"Cost\")\n",
    "savefig(plt, \"lqr_vs_learned_cost_1d.pdf\")\n",
    "savefig(plt, \"lqr_vs_learned_cost_1d.png\")\n",
    "plt"
   ]
  },
  {
   "cell_type": "code",
   "execution_count": null,
   "metadata": {},
   "outputs": [],
   "source": [
    "state = nominal_state(robot)\n",
    "set_velocity!(state, [0.0, 8])\n",
    "problem = LearningMPC.simulation_problem(state, interval_net_mpc, 0.01, 6.0)\n",
    "solution = RigidBodySim.solve(problem, Tsit5(), abs_tol=1e-8, dt=1e-6)\n",
    "setanimation!(mvis, solution)"
   ]
  },
  {
   "cell_type": "code",
   "execution_count": null,
   "metadata": {},
   "outputs": [],
   "source": [
    "policies = [\n",
    "            (interval_net_mpc, \"MPC + Learned Interval\"),\n",
    "            (lqrsol, \"LQR\"), \n",
    "            (lqr_mpc, \"MPC + LQR cost\"),\n",
    "            (policy_net_controller, \"Policy Net\"), \n",
    "]\n",
    "\n",
    "tables = map(policies) do args\n",
    "    controller, label = args\n",
    "    LearningMPC.run_evaluations(\n",
    "        controller,\n",
    "        label,\n",
    "        robot,\n",
    "        lqrsol,\n",
    "        [(1, [0])],\n",
    "        [(1, linspace(-8, 8, 11)), (2, linspace(-π, π, 11))]; \n",
    "        mvis=mvis,\n",
    "        horizon=400)\n",
    "end\n",
    "cost_table = vcat(tables...)"
   ]
  },
  {
   "cell_type": "code",
   "execution_count": null,
   "metadata": {},
   "outputs": [],
   "source": [
    "@save \"cost_table.jld2\" cost_table"
   ]
  },
  {
   "cell_type": "code",
   "execution_count": null,
   "metadata": {},
   "outputs": [],
   "source": [
    "@load \"cost_table.jld2\" cost_table"
   ]
  },
  {
   "cell_type": "code",
   "execution_count": null,
   "metadata": {},
   "outputs": [],
   "source": [
    "function cost_heatmap(table, label; clim=(0, 5000), feature=:running_cost)\n",
    "    xs = sort(unique(row[:v0][1] for row in eachrow(table) if row[:controller] == label))              \n",
    "    ys = sort(unique(row[:v0][2] for row in eachrow(table) if row[:controller] == label))\n",
    "    zs = zeros(length(ys), length(xs))\n",
    "    for row in eachrow(table)\n",
    "        if row[:controller] == label\n",
    "            x = row[:v0][1]\n",
    "            y = row[:v0][2]\n",
    "            ix = findfirst(k -> k == x, xs)\n",
    "            iy = findfirst(k -> k == y, ys)\n",
    "            zs[iy, ix] = row[feature][1]\n",
    "        end\n",
    "    end\n",
    "\n",
    "    plt = heatmap(xs, ys, zs, clim=clim, color=:coolwarm, aspect_ratio=8/π)\n",
    "    xlabel!(plt, \"Cart velocity\")\n",
    "    ylabel!(plt, \"Pole velocity\")\n",
    "    title!(plt, label)\n",
    "    plt\n",
    "end\n",
    "                                \n",
    "                                "
   ]
  },
  {
   "cell_type": "code",
   "execution_count": null,
   "metadata": {},
   "outputs": [],
   "source": [
    "function success_heatmap(table, label, q_threshold=π/8, v_threshold=π/8)\n",
    "    xs = sort(unique(row[:v0][1] for row in eachrow(table) if row[:controller] == label))              \n",
    "    ys = sort(unique(row[:v0][2] for row in eachrow(table) if row[:controller] == label))\n",
    "    zs = zeros(Bool, length(ys), length(xs))\n",
    "    for row in eachrow(table)\n",
    "        if row[:controller] == label\n",
    "            x = row[:v0][1]\n",
    "            y = row[:v0][2]\n",
    "            ix = findfirst(k -> k == x, xs)\n",
    "            iy = findfirst(k -> k == y, ys)\n",
    "            success = (isapprox(row[:qf][2], 0, atol=q_threshold) && \n",
    "                isapprox(row[:vf][2], 0, atol=v_threshold))\n",
    "            zs[iy, ix] = success\n",
    "        end\n",
    "    end\n",
    "\n",
    "    plt = heatmap(xs, ys, zs, colorbar=false, aspect_ratio=8/π)\n",
    "    xlabel!(plt, \"Cart velocity\")\n",
    "    ylabel!(plt, \"Pole velocity\")\n",
    "    title!(plt, label)\n",
    "    plt\n",
    "end\n",
    "                                \n",
    "   "
   ]
  },
  {
   "cell_type": "code",
   "execution_count": null,
   "metadata": {},
   "outputs": [],
   "source": [
    "label = \"Policy Net\"\n",
    "plt = cost_heatmap(cost_table, label)\n",
    "title!(plt, \"Policy Net: Running Cost\")\n",
    "savefig(plt, \"policy_net_running_cost.svg\")\n",
    "savefig(plt, \"policy_net_running_cost.pdf\")\n",
    "plt"
   ]
  },
  {
   "cell_type": "code",
   "execution_count": null,
   "metadata": {},
   "outputs": [],
   "source": [
    "plt = success_heatmap(cost_table, label)\n",
    "title!(plt, \"Policy Net: Successes\")\n",
    "savefig(plt, \"policy_net_successes.pdf\")\n",
    "plt"
   ]
  },
  {
   "cell_type": "code",
   "execution_count": null,
   "metadata": {},
   "outputs": [],
   "source": [
    "label = \"MPC + Learned Interval\"\n",
    "plt = cost_heatmap(cost_table, label)\n",
    "title!(plt, \"MPC + Learned Interval: Running Cost\")\n",
    "savefig(plt, \"mpc_interval_running_cost.svg\")\n",
    "savefig(plt, \"mpc_interval_running_cost.pdf\")\n",
    "plt"
   ]
  },
  {
   "cell_type": "code",
   "execution_count": null,
   "metadata": {},
   "outputs": [],
   "source": [
    "plt = success_heatmap(cost_table, label)\n",
    "title!(plt, \"MPC + Learned Interval: Successes\")\n",
    "savefig(plt, \"mpc_interval_successes.pdf\")\n",
    "plt"
   ]
  },
  {
   "cell_type": "code",
   "execution_count": null,
   "metadata": {},
   "outputs": [],
   "source": [
    "label = \"MPC + LQR cost\"\n",
    "plt = cost_heatmap(cost_table, label)\n",
    "title!(plt, \"MPC + LQR: Running Cost\")\n",
    "savefig(plt, \"mpc_lqr_running_cost.svg\")\n",
    "savefig(plt, \"mpc_lqr_running_cost.pdf\")\n",
    "plt"
   ]
  },
  {
   "cell_type": "code",
   "execution_count": null,
   "metadata": {},
   "outputs": [],
   "source": [
    "plt = success_heatmap(cost_table, label)\n",
    "title!(plt, \"MPC + LQR: Successes\")\n",
    "savefig(plt, \"mpc_lqr_successes.pdf\")\n",
    "plt"
   ]
  },
  {
   "cell_type": "code",
   "execution_count": null,
   "metadata": {},
   "outputs": [],
   "source": []
  }
 ],
 "metadata": {
  "kernelspec": {
   "display_name": "Julia 0.6.4",
   "language": "julia",
   "name": "julia-0.6"
  },
  "language_info": {
   "file_extension": ".jl",
   "mimetype": "application/julia",
   "name": "julia",
   "version": "0.6.4"
  }
 },
 "nbformat": 4,
 "nbformat_minor": 2
}
